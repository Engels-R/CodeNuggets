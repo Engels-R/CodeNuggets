{
  "nbformat": 4,
  "nbformat_minor": 0,
  "metadata": {
    "colab": {
      "name": "MyCPPTest.ipynb",
      "provenance": [],
      "authorship_tag": "ABX9TyMp6XmzDQZbYQHHxF/65/uI",
      "include_colab_link": true
    },
    "kernelspec": {
      "name": "python3",
      "display_name": "Python 3"
    },
    "language_info": {
      "name": "python"
    }
  },
  "cells": [
    {
      "cell_type": "markdown",
      "metadata": {
        "id": "view-in-github",
        "colab_type": "text"
      },
      "source": [
        "<a href=\"https://colab.research.google.com/github/Engels-R/CodeNuggets/blob/main/MyCPPTest.ipynb\" target=\"_parent\"><img src=\"https://colab.research.google.com/assets/colab-badge.svg\" alt=\"Open In Colab\"/></a>"
      ]
    },
    {
      "cell_type": "code",
      "metadata": {
        "colab": {
          "base_uri": "https://localhost:8080/"
        },
        "id": "996b1IQLrz8I",
        "outputId": "7b554585-872f-42db-ea4b-8595790787a7"
      },
      "source": [
        "%%writefile test.cpp\n",
        "\n",
        "#include<iostream>\n",
        "using namespace std;\n",
        "\n",
        "//Main function\n",
        "int main(int Argc,char* Args[]){\n",
        "    cout<<\"test complete\";\n",
        "  return 0;\n",
        "}"
      ],
      "execution_count": null,
      "outputs": [
        {
          "output_type": "stream",
          "name": "stdout",
          "text": [
            "Overwriting test.cpp\n"
          ]
        }
      ]
    },
    {
      "cell_type": "code",
      "metadata": {
        "colab": {
          "base_uri": "https://localhost:8080/"
        },
        "id": "xx_zAvTFr6sb",
        "outputId": "34f7676b-f156-4b16-852b-9f0426e51102"
      },
      "source": [
        "%%script bash\n",
        "\n",
        "g++ test.cpp -o test\n",
        "ls -laX\n",
        "./test"
      ],
      "execution_count": null,
      "outputs": [
        {
          "output_type": "stream",
          "name": "stdout",
          "text": [
            "total 32\n",
            "drwxr-xr-x 1 root root 4096 Nov 18 14:36 sample_data\n",
            "-rwxr-xr-x 1 root root 8776 Dec  3 05:04 test\n",
            "drwxr-xr-x 1 root root 4096 Dec  3 05:04 .\n",
            "drwxr-xr-x 1 root root 4096 Dec  3 05:00 ..\n",
            "drwxr-xr-x 4 root root 4096 Nov 18 14:35 .config\n",
            "-rw-r--r-- 1 root root  131 Dec  3 05:03 test.cpp\n",
            "test complete"
          ]
        }
      ]
    }
  ]
}