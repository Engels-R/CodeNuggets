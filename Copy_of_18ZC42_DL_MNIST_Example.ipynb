{
  "nbformat": 4,
  "nbformat_minor": 0,
  "metadata": {
    "colab": {
      "name": "Copy of 18ZC42 DL MNIST Example.ipynb",
      "provenance": [],
      "collapsed_sections": [],
      "authorship_tag": "ABX9TyOnRHWFEXFSHan7b0KqrJ3d",
      "include_colab_link": true
    },
    "kernelspec": {
      "name": "python3",
      "display_name": "Python 3"
    },
    "language_info": {
      "name": "python"
    },
    "accelerator": "GPU"
  },
  "cells": [
    {
      "cell_type": "markdown",
      "metadata": {
        "id": "view-in-github",
        "colab_type": "text"
      },
      "source": [
        "<a href=\"https://colab.research.google.com/github/Engels-R/CodeNuggets/blob/main/Copy_of_18ZC42_DL_MNIST_Example.ipynb\" target=\"_parent\"><img src=\"https://colab.research.google.com/assets/colab-badge.svg\" alt=\"Open In Colab\"/></a>"
      ]
    },
    {
      "cell_type": "markdown",
      "metadata": {
        "id": "c6dW2J8UlQNW"
      },
      "source": [
        "18ZC42 DL MNIST Example"
      ]
    },
    {
      "cell_type": "markdown",
      "metadata": {
        "id": "xde6sR_cl3iP"
      },
      "source": [
        "Loading Dataset"
      ]
    },
    {
      "cell_type": "code",
      "metadata": {
        "colab": {
          "base_uri": "https://localhost:8080/"
        },
        "id": "3ZuTIplklOkp",
        "outputId": "8c77020f-d980-4eee-a914-feb11d354cfa"
      },
      "source": [
        "from keras.datasets import mnist\n",
        "(train_images, train_labels), (test_images, test_labels) = mnist.load_data()"
      ],
      "execution_count": null,
      "outputs": [
        {
          "output_type": "stream",
          "name": "stdout",
          "text": [
            "Downloading data from https://storage.googleapis.com/tensorflow/tf-keras-datasets/mnist.npz\n",
            "11493376/11490434 [==============================] - 0s 0us/step\n",
            "11501568/11490434 [==============================] - 0s 0us/step\n"
          ]
        }
      ]
    },
    {
      "cell_type": "markdown",
      "metadata": {
        "id": "_K423dHXl8o4"
      },
      "source": [
        "The workflow will be as follows: First, we’ll feed the neural network the training data, train_images and train_labels. \n",
        "The network will then learn to associate images and\n",
        "labels. \n",
        "Finally, we’ll ask the network to produce predictions for test_images, and we’ll verify whether these predictions match the labels from test_labels"
      ]
    },
    {
      "cell_type": "markdown",
      "metadata": {
        "id": "R-igIILllzPk"
      },
      "source": [
        "Train Data Details"
      ]
    },
    {
      "cell_type": "code",
      "metadata": {
        "colab": {
          "base_uri": "https://localhost:8080/"
        },
        "id": "FBJwIftfljrn",
        "outputId": "3685b288-cbb0-43b7-8f3c-58ba87c1e19f"
      },
      "source": [
        "train_images.shape\n",
        "len(train_labels)\n",
        "train_labels"
      ],
      "execution_count": null,
      "outputs": [
        {
          "output_type": "execute_result",
          "data": {
            "text/plain": [
              "array([5, 0, 4, ..., 5, 6, 8], dtype=uint8)"
            ]
          },
          "metadata": {},
          "execution_count": 2
        }
      ]
    },
    {
      "cell_type": "markdown",
      "metadata": {
        "id": "XvfoIiTfltDc"
      },
      "source": [
        "Test Data Details"
      ]
    },
    {
      "cell_type": "code",
      "metadata": {
        "colab": {
          "base_uri": "https://localhost:8080/"
        },
        "id": "nfw7e276lqgk",
        "outputId": "ddbfa332-db56-49f7-b62e-6b6edb6e4381"
      },
      "source": [
        "test_images.shape\n",
        "len(test_labels)\n",
        "test_labels"
      ],
      "execution_count": null,
      "outputs": [
        {
          "output_type": "execute_result",
          "data": {
            "text/plain": [
              "array([7, 2, 1, ..., 4, 5, 6], dtype=uint8)"
            ]
          },
          "metadata": {},
          "execution_count": 3
        }
      ]
    },
    {
      "cell_type": "markdown",
      "metadata": {
        "id": "qzU6Svj0mLDL"
      },
      "source": [
        "The core building block of neural networks is the layer, a data-processing module that\n",
        "you can think of as a filter for data. Some data goes in, and it comes out in a more useful form. Specifically, layers extract representations out of the data fed into them—hopefully, representations that are more meaningful for the problem at hand"
      ]
    },
    {
      "cell_type": "markdown",
      "metadata": {
        "id": "XUupFWBBmYib"
      },
      "source": [
        "Most of deep learning consists of chaining together simple layers that will implement a form of progressive data distillation.\n",
        "Most of deep learning consists of chaining together simple layers that will implement a form of progressive data distillation."
      ]
    },
    {
      "cell_type": "markdown",
      "metadata": {
        "id": "5xUKJfqjmrJr"
      },
      "source": [
        "our network consists of a sequence of two Dense layers, which are densely connected (also called fully connected) neural layers. The second (and last) layer is a 10-way softmax layer (Multinomial Logistic Regression), which means it will return an array of 10 probability scores (summing to 1). Each score will be the probability that the current digit image belongs to one of our 10 digit classes"
      ]
    },
    {
      "cell_type": "code",
      "metadata": {
        "id": "kT7N_8_0mBUU"
      },
      "source": [
        "from keras import models\n",
        "from keras import layers\n",
        "network = models.Sequential()\n",
        "network.add(layers.Dense(512, activation='relu', input_shape=(28 * 28,)))\n",
        "network.add(layers.Dense(10, activation='softmax'))"
      ],
      "execution_count": null,
      "outputs": []
    },
    {
      "cell_type": "markdown",
      "metadata": {
        "id": "Ksriqedfm3FV"
      },
      "source": [
        "A loss function- How the network will be able to measure its performance on the training data, and thus how it will be able to steer itself in the right direction.\n",
        "An optimizer - The mechanism through which the network will update itself based on the data it sees and its loss function\n",
        "Metrics to monitor during training and testing - Accuracy (the fraction of the images that were correctly classified)\n"
      ]
    },
    {
      "cell_type": "code",
      "metadata": {
        "id": "S6B0pJR1m2VG"
      },
      "source": [
        "network.compile(optimizer='rmsprop',\n",
        "loss='categorical_crossentropy',\n",
        "metrics=['accuracy'])"
      ],
      "execution_count": null,
      "outputs": []
    },
    {
      "cell_type": "markdown",
      "metadata": {
        "id": "IzvHgzFonHqJ"
      },
      "source": [
        "Preprocessing"
      ]
    },
    {
      "cell_type": "code",
      "metadata": {
        "id": "ScmYR-omnDYR"
      },
      "source": [
        "train_images = train_images.reshape((60000, 28 * 28))\n",
        "train_images = train_images.astype('float32') / 255\n",
        "test_images = test_images.reshape((10000, 28 * 28))\n",
        "test_images = test_images.astype('float32') / 255"
      ],
      "execution_count": null,
      "outputs": []
    },
    {
      "cell_type": "markdown",
      "metadata": {
        "id": "KRzrdML2nr7-"
      },
      "source": [
        "categorically encode the labels"
      ]
    },
    {
      "cell_type": "code",
      "metadata": {
        "id": "bDFWFBKPnvmV"
      },
      "source": [
        "from tensorflow.keras.utils import to_categorical\n",
        "train_labels = to_categorical(train_labels)\n",
        "test_labels = to_categorical(test_labels)"
      ],
      "execution_count": null,
      "outputs": []
    },
    {
      "cell_type": "markdown",
      "metadata": {
        "id": "9akJB30Bny12"
      },
      "source": [
        "Train the network"
      ]
    },
    {
      "cell_type": "code",
      "metadata": {
        "colab": {
          "base_uri": "https://localhost:8080/"
        },
        "id": "Ry1ehpFVnyT2",
        "outputId": "dabffd0c-6631-4d61-cfb5-9749ec2df8cd"
      },
      "source": [
        " network.fit(train_images, train_labels, epochs=5, batch_size=128)"
      ],
      "execution_count": null,
      "outputs": [
        {
          "output_type": "stream",
          "name": "stdout",
          "text": [
            "Epoch 1/5\n",
            "469/469 [==============================] - 5s 4ms/step - loss: 0.2576 - accuracy: 0.9248\n",
            "Epoch 2/5\n",
            "469/469 [==============================] - 2s 4ms/step - loss: 0.1042 - accuracy: 0.9691\n",
            "Epoch 3/5\n",
            "469/469 [==============================] - 2s 4ms/step - loss: 0.0695 - accuracy: 0.9792\n",
            "Epoch 4/5\n",
            "469/469 [==============================] - 2s 4ms/step - loss: 0.0494 - accuracy: 0.9852\n",
            "Epoch 5/5\n",
            "469/469 [==============================] - 2s 4ms/step - loss: 0.0364 - accuracy: 0.9891\n"
          ]
        },
        {
          "output_type": "execute_result",
          "data": {
            "text/plain": [
              "<keras.callbacks.History at 0x7f33300f36d0>"
            ]
          },
          "metadata": {},
          "execution_count": 8
        }
      ]
    },
    {
      "cell_type": "markdown",
      "metadata": {
        "id": "6jt-70i1n7d0"
      },
      "source": [
        "Model performance"
      ]
    },
    {
      "cell_type": "code",
      "metadata": {
        "colab": {
          "base_uri": "https://localhost:8080/"
        },
        "id": "N1yL6BOzn4mW",
        "outputId": "78512d0c-a431-44de-d0c5-7f877229ba79"
      },
      "source": [
        "test_loss, test_acc = network.evaluate(test_images, test_labels)\n",
        "print('test_acc:', test_acc)"
      ],
      "execution_count": null,
      "outputs": [
        {
          "output_type": "stream",
          "name": "stdout",
          "text": [
            "313/313 [==============================] - 1s 3ms/step - loss: 0.0670 - accuracy: 0.9796\n",
            "test_acc: 0.9796000123023987\n"
          ]
        }
      ]
    }
  ]
}